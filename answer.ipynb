{
  "nbformat": 4,
  "nbformat_minor": 0,
  "metadata": {
    "colab": {
      "name": "answer.ipynb",
      "provenance": []
    },
    "kernelspec": {
      "name": "python3",
      "display_name": "Python 3"
    },
    "language_info": {
      "name": "python"
    }
  },
  "cells": [
    {
      "cell_type": "code",
      "metadata": {
        "id": "n9OHdi6fezXA"
      },
      "source": [
        "import pandas as pd\n",
        "import numpy as np\n",
        "import matplotlib as plt\n",
        "from google.colab import files\n",
        "import io\n",
        "import json"
      ],
      "execution_count": 17,
      "outputs": []
    },
    {
      "cell_type": "code",
      "metadata": {
        "colab": {
          "base_uri": "https://localhost:8080/"
        },
        "id": "9y3snbn8yd-G",
        "outputId": "f789317a-c917-4ce1-a18c-4070bbfe9d67"
      },
      "source": [
        "input=pd.DataFrame({'store1':['Nicole','Michonne','Jassy','Negan','Mr.Zeke','Janosz'],\n",
        "                    'store2':['Lummy','Rosita','Michonne','Negan','Janosz','Mike'],\n",
        "                    'store3':['Lummy','Robin','Michonne','Ted','Janosz','Barney']\n",
        "                    })\n",
        "print(input)"
      ],
      "execution_count": 18,
      "outputs": [
        {
          "output_type": "stream",
          "text": [
            "     store1    store2    store3\n",
            "0    Nicole     Lummy     Lummy\n",
            "1  Michonne    Rosita     Robin\n",
            "2     Jassy  Michonne  Michonne\n",
            "3     Negan     Negan       Ted\n",
            "4   Mr.Zeke    Janosz    Janosz\n",
            "5    Janosz      Mike    Barney\n"
          ],
          "name": "stdout"
        }
      ]
    },
    {
      "cell_type": "code",
      "metadata": {
        "colab": {
          "base_uri": "https://localhost:8080/"
        },
        "id": "n6b2_DrHqgcl",
        "outputId": "e2a550eb-8eb7-47f2-95df-c4d4eaa69689"
      },
      "source": [
        "def group_by_owners(storeList):\n",
        "    new={}\n",
        "    for i in storeList.columns:\n",
        "      store=i\n",
        "  \n",
        "      for j in range(len(storeList)):   \n",
        "        name=storeList[store][j]  \n",
        "        if name not in new:\n",
        "            new[name] = list()\n",
        "        new[name].append(store)\n",
        "    print(json.dumps(new, indent=4, sort_keys=True))\n",
        "\n",
        "print(group_by_owners(input))"
      ],
      "execution_count": 33,
      "outputs": [
        {
          "output_type": "stream",
          "text": [
            "{\n",
            "    \"Barney\": [\n",
            "        \"store3\"\n",
            "    ],\n",
            "    \"Janosz\": [\n",
            "        \"store1\",\n",
            "        \"store2\",\n",
            "        \"store3\"\n",
            "    ],\n",
            "    \"Jassy\": [\n",
            "        \"store1\"\n",
            "    ],\n",
            "    \"Lummy\": [\n",
            "        \"store2\",\n",
            "        \"store3\"\n",
            "    ],\n",
            "    \"Michonne\": [\n",
            "        \"store1\",\n",
            "        \"store2\",\n",
            "        \"store3\"\n",
            "    ],\n",
            "    \"Mike\": [\n",
            "        \"store2\"\n",
            "    ],\n",
            "    \"Mr.Zeke\": [\n",
            "        \"store1\"\n",
            "    ],\n",
            "    \"Negan\": [\n",
            "        \"store1\",\n",
            "        \"store2\"\n",
            "    ],\n",
            "    \"Nicole\": [\n",
            "        \"store1\"\n",
            "    ],\n",
            "    \"Robin\": [\n",
            "        \"store3\"\n",
            "    ],\n",
            "    \"Rosita\": [\n",
            "        \"store2\"\n",
            "    ],\n",
            "    \"Ted\": [\n",
            "        \"store3\"\n",
            "    ]\n",
            "}\n",
            "None\n"
          ],
          "name": "stdout"
        }
      ]
    }
  ]
}