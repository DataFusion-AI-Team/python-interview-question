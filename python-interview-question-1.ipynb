{
 "cells": [
  {
   "cell_type": "markdown",
   "id": "stretch-looking",
   "metadata": {},
   "source": [
    "## QUESTION-1"
   ]
  },
  {
   "cell_type": "markdown",
   "id": "educated-horizontal",
   "metadata": {},
   "source": [
    "Implement a group_by_owners function that:\n",
    "\n",
    "    Accepts a dictionary containing the file owner name for each file name.\n",
    "    Returns a dictionary containing a list of file names for each owner name, in any order.\n",
    "\n",
    "For example, for dictionary {'Input.txt': 'Randy', 'Code.py': 'Stan', 'Output.txt': 'Randy'} the group_by_owners function should return {'Randy': ['Input.txt', 'Output.txt'], 'Stan': ['Code.py']}."
   ]
  },
  {
   "cell_type": "code",
   "execution_count": 85,
   "id": "constant-insulin",
   "metadata": {},
   "outputs": [
    {
     "name": "stdout",
     "output_type": "stream",
     "text": [
      "None\n"
     ]
    }
   ],
   "source": [
    "def group_by_owners(files):\n",
    "    return None\n",
    "\n",
    "if __name__ == \"__main__\":    \n",
    "    files = {\n",
    "        'Input.txt': 'Randy',\n",
    "        'Code.py': 'Stan',\n",
    "        'Output.txt': 'Randy'\n",
    "    }   \n",
    "    print(group_by_owners(files))"
   ]
  },
  {
   "cell_type": "markdown",
   "id": "living-barrel",
   "metadata": {},
   "source": [
    "## ANSWERS-1"
   ]
  },
  {
   "cell_type": "code",
   "execution_count": 86,
   "id": "saved-alert",
   "metadata": {},
   "outputs": [
    {
     "name": "stdout",
     "output_type": "stream",
     "text": [
      "{'Randy': ['Input.txt', 'Output.txt'], 'Stan': ['Code.py']}\n"
     ]
    }
   ],
   "source": [
    "def group_by_owners(files):\n",
    "    res = {}\n",
    "    for k,v in files.items():\n",
    "        if v in res:\n",
    "            res[v] = res[v] + [k]\n",
    "        else:\n",
    "            res[v]= [k]\n",
    "    return res\n",
    "\n",
    "if __name__ == \"__main__\":    \n",
    "    files = {\n",
    "        'Input.txt': 'Randy',\n",
    "        'Code.py': 'Stan',\n",
    "        'Output.txt': 'Randy'\n",
    "    }   \n",
    "    print(group_by_owners(files))\n",
    "        "
   ]
  },
  {
   "cell_type": "code",
   "execution_count": null,
   "id": "concrete-subdivision",
   "metadata": {},
   "outputs": [],
   "source": []
  }
 ],
 "metadata": {
  "kernelspec": {
   "display_name": "Python 3",
   "language": "python",
   "name": "python3"
  },
  "language_info": {
   "codemirror_mode": {
    "name": "ipython",
    "version": 3
   },
   "file_extension": ".py",
   "mimetype": "text/x-python",
   "name": "python",
   "nbconvert_exporter": "python",
   "pygments_lexer": "ipython3",
   "version": "3.6.9"
  }
 },
 "nbformat": 4,
 "nbformat_minor": 5
}
